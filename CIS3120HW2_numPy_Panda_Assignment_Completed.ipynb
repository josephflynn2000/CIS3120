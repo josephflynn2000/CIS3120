{
 "cells": [
  {
   "cell_type": "markdown",
   "metadata": {
    "colab_type": "text",
    "id": "eVhoAKeUoq5l"
   },
   "source": [
    "### Student Last Name: Flynn \n",
    "### Student First Name: Joseph "
   ]
  },
  {
   "cell_type": "markdown",
   "metadata": {
    "colab_type": "text",
    "id": "J4GvN9z5Rri4"
   },
   "source": [
    "Spring 2020 Programming for Analytics CIS 3120 PTRB[26809] (Baruch College) \n",
    "HW#2 numPy Panda"
   ]
  },
  {
   "cell_type": "markdown",
   "metadata": {
    "colab_type": "text",
    "id": "_NcOiSBsJ3yA"
   },
   "source": [
    "## Question#1:\n",
    "### Write a NumPy program to create a structured array from given student name, height, class and their data types. Sort the array on height.\n"
   ]
  },
  {
   "cell_type": "code",
   "execution_count": 1,
   "metadata": {
    "colab": {
     "base_uri": "https://localhost:8080/",
     "height": 119
    },
    "colab_type": "code",
    "id": "sgU-Bz_PIYPm",
    "outputId": "cec1e77e-244e-4e7b-a97a-4250aeead5b0"
   },
   "outputs": [
    {
     "name": "stdout",
     "output_type": "stream",
     "text": [
      "Original array:\n",
      "[(b'John', 5, 48.5 ) (b'Nat', 6, 52.5 ) (b'Pat', 4, 32.1 )\n",
      " (b'Patty', 7, 60.11)]\n",
      "Sort by height\n",
      "[(b'Pat', 4, 32.1 ) (b'John', 5, 48.5 ) (b'Nat', 6, 52.5 )\n",
      " (b'Patty', 7, 60.11)]\n"
     ]
    }
   ],
   "source": [
    "import numpy as np\n",
    "data_type = [('name', 'S15'), ('class', int), ('height', float)]\n",
    "students_details = [('John', 5, 48.5), ('Nat', 6, 52.5),('Pat', 4, 32.10), ('Patty', 7, 60.11)]\n",
    "\n",
    "#sets array using student_details as data and has it sorted by data_type\n",
    "students =  np.array(students_details, dtype = data_type)\n",
    "\n",
    "print(\"Original array:\")\n",
    "#prints original array\n",
    "print(students)\n",
    "\n",
    "print(\"Sort by height\")\n",
    "#sorts array by height from low to high and then prints sorted array\n",
    "print(np.sort(students, order = 'height')) \n"
   ]
  },
  {
   "cell_type": "markdown",
   "metadata": {
    "colab_type": "text",
    "id": "pG6WtS88JpIv"
   },
   "source": [
    "## Question#2:\n",
    "### Write a NumPy program to count the number of days of a given month for the given years."
   ]
  },
  {
   "cell_type": "code",
   "execution_count": 2,
   "metadata": {
    "colab": {
     "base_uri": "https://localhost:8080/",
     "height": 119
    },
    "colab_type": "code",
    "id": "B62UqS8pKy6c",
    "outputId": "059b8c4b-1e6b-4abc-a383-a738fd48791c"
   },
   "outputs": [
    {
     "name": "stdout",
     "output_type": "stream",
     "text": [
      "Number of days, February, 2020: \n",
      "29 days\n",
      "Number of days, February, 2021: \n",
      "28 days\n",
      "Number of days, February, 2022: \n",
      "28 days\n"
     ]
    }
   ],
   "source": [
    "import numpy as np\n",
    "print(\"Number of days, February, 2020: \")\n",
    "#stored the subtracted dates from each other to get the difference, which equals the days between\n",
    "Feb_2020 = np.datetime64('2020-03-01')- np.datetime64('2020-02-01')\n",
    "print(Feb_2020)\n",
    "\n",
    "print(\"Number of days, February, 2021: \")\n",
    "#stored the subtracted dates from each other to get the difference, which equals the days between\n",
    "Feb_2021 = np.datetime64('2021-03-01')- np.datetime64('2021-02-01')\n",
    "print(Feb_2021)\n",
    "\n",
    "print(\"Number of days, February, 2022: \")\n",
    "#stored the subtracted dates from each other to get the difference, which equals the days between\n",
    "Feb_2022 = np.datetime64('2022-03-01')- np.datetime64('2022-02-01')\n",
    "print(Feb_2022)"
   ]
  },
  {
   "cell_type": "markdown",
   "metadata": {
    "colab_type": "text",
    "id": "tx8Xb6dpMq-O"
   },
   "source": [
    "## Question#3:\n",
    "### Write a NumPy program to combine last element with first element of two given ndarray with different shapes.\n"
   ]
  },
  {
   "cell_type": "code",
   "execution_count": 3,
   "metadata": {
    "colab": {
     "base_uri": "https://localhost:8080/",
     "height": 119
    },
    "colab_type": "code",
    "id": "v02c6a7GTdzb",
    "outputId": "19bd1674-27e5-4556-f7aa-cb5e42ea7714"
   },
   "outputs": [
    {
     "name": "stdout",
     "output_type": "stream",
     "text": [
      "Original arrays:\n",
      "['PHP', 'JS', 'C++']\n",
      "['Python', 'C#', 'NumPy']\n",
      "\n",
      "After Combining:\n",
      "['PHP', 'JS', 'C++Python', 'C#', 'NumPy']\n"
     ]
    }
   ],
   "source": [
    "import numpy as np\n",
    "array1 = ['PHP','JS','C++']\n",
    "array2 = ['Python','C#', 'NumPy']    \n",
    "print(\"Original arrays:\")          \n",
    "print(array1)\n",
    "print(array2)\n",
    "\n",
    "#stores elements before index 2 of array1\n",
    "ar_1 = array1[:2]\n",
    "\n",
    "#combines the last element of array1 and first element from array2\n",
    "ar_2 = np.r_[[array1[-1]+array2[0]]]\n",
    "#takes ar_2 as a single element in a list\n",
    "ar_3 = [ar_2[0]]\n",
    "\n",
    "#stores elements after index 0 of array2\n",
    "ar_4 = array2[1:]\n",
    "\n",
    "#combine the 3 new lists as one list\n",
    "result  = ar_1+ar_3+ar_4\n",
    "print(\"\\nAfter Combining:\")  \n",
    "#print the combined list\n",
    "print(result)\n"
   ]
  },
  {
   "cell_type": "markdown",
   "metadata": {
    "colab_type": "text",
    "id": "9qTzA7PLZhpS"
   },
   "source": [
    "## Question#4:\n",
    "### Write a Pandas program to convert a dictionary to a Pandas series.\n"
   ]
  },
  {
   "cell_type": "code",
   "execution_count": 4,
   "metadata": {
    "colab": {
     "base_uri": "https://localhost:8080/",
     "height": 170
    },
    "colab_type": "code",
    "id": "5SKUFHMgZmYQ",
    "outputId": "e9c7b7e9-e646-48f0-919a-cf61561eb269"
   },
   "outputs": [
    {
     "name": "stdout",
     "output_type": "stream",
     "text": [
      "Original dictionary:\n",
      "{'a': 100, 'b': 200, 'c': 300, 'd': 400, 'e': 800}\n",
      "Converted series:\n",
      "a    100\n",
      "b    200\n",
      "c    300\n",
      "d    400\n",
      "e    800\n",
      "dtype: int64\n"
     ]
    }
   ],
   "source": [
    "import pandas as pd\n",
    "d1 = {'a': 100, 'b': 200, 'c':300, 'd':400, 'e':800}\n",
    "\n",
    "print(\"Original dictionary:\")\n",
    "print(d1)\n",
    "\n",
    "#stores original dictionary as series\n",
    "new_series = pd.Series(d1)\n",
    "print(\"Converted series:\")\n",
    "#prints the new_Series that was created prior\n",
    "print(new_series)"
   ]
  },
  {
   "cell_type": "markdown",
   "metadata": {
    "colab_type": "text",
    "id": "poDy_3BKZm-g"
   },
   "source": [
    "## Question#5:\n",
    "### Write a Pandas program to get the items which are not common of two given series."
   ]
  },
  {
   "cell_type": "code",
   "execution_count": 5,
   "metadata": {
    "colab": {
     "base_uri": "https://localhost:8080/",
     "height": 425
    },
    "colab_type": "code",
    "id": "My-BHkqabe1A",
    "outputId": "363cac85-332e-42bb-f094-f009e1471137"
   },
   "outputs": [
    {
     "name": "stdout",
     "output_type": "stream",
     "text": [
      "Original Series:\n",
      "sr1:\n",
      "0    1\n",
      "1    2\n",
      "2    3\n",
      "3    4\n",
      "4    5\n",
      "dtype: int64\n",
      "sr2:\n",
      "0     2\n",
      "1     4\n",
      "2     6\n",
      "3     8\n",
      "4    10\n",
      "dtype: int64\n",
      "\n",
      "Items of a given series not present in another given series:\n",
      "0     1\n",
      "1     3\n",
      "2     5\n",
      "3     6\n",
      "4     8\n",
      "5    10\n",
      "dtype: int64\n"
     ]
    }
   ],
   "source": [
    "import pandas as pd\n",
    "import numpy as np\n",
    "sr1 = pd.Series([1, 2, 3, 4, 5])\n",
    "sr2 = pd.Series([2, 4, 6, 8, 10])\n",
    "print(\"Original Series:\")\n",
    "print(\"sr1:\")\n",
    "print(sr1)\n",
    "print(\"sr2:\")\n",
    "print(sr2)\n",
    "print(\"\\nItems of a given series not present in another given series:\")\n",
    "\n",
    "#function finds items in sr1 not in sr2\n",
    "sr11 = np.setdiff1d(sr1, sr2)\n",
    "#function finds items in sr2 not in sr1\n",
    "sr22 = np.setdiff1d(sr2, sr1)\n",
    "#combines both series by using concatenate to combine data on the same axis\n",
    "#then make the data into a series, which resets the index\n",
    "result = pd.Series(np.concatenate((sr11, sr22), axis=None))\n",
    "#prints the combined series \n",
    "print(result)\n",
    "\n",
    "#if you want to keep the original index from each list\n",
    "#sr112 = pd.Series(np.setdiff1d(sr1, sr2))\n",
    "#sr222 = pd.Series(np.setdiff1d(sr2, sr1))\n",
    "#result2 = pd.Series(sr112.append(sr222))\n",
    "#print(result2)"
   ]
  },
  {
   "cell_type": "markdown",
   "metadata": {
    "colab_type": "text",
    "id": "ByH1A5p5eSij"
   },
   "source": [
    "## Question#6:\n",
    "### Write a Pandas program to calculate the total of the examination attempts and the mean score in data frame.\n",
    "### Display the first four rows in the output."
   ]
  },
  {
   "cell_type": "code",
   "execution_count": 6,
   "metadata": {
    "colab": {
     "base_uri": "https://localhost:8080/",
     "height": 204
    },
    "colab_type": "code",
    "id": "1jQyQTJCdy97",
    "outputId": "3d29727f-bb33-431e-e041-465edeb70278"
   },
   "outputs": [
    {
     "name": "stdout",
     "output_type": "stream",
     "text": [
      "\n",
      "Sum of the examination attempts by the students:\n",
      "19\n",
      "\n",
      "Mean score for each different student in data frame:\n",
      "13.5625\n",
      "        name  score  attempts qualify\n",
      "a  Anastasia   12.5         1     yes\n",
      "b       Dima    9.0         3      no\n",
      "c  Katherine   16.5         2     yes\n",
      "d      James    NaN         3      no\n"
     ]
    }
   ],
   "source": [
    "import pandas as pd\n",
    "import numpy as np\n",
    "exam_data  = {'name': ['Anastasia', 'Dima', 'Katherine', 'James', 'Emily', 'Michael', 'Matthew', 'Laura', 'Kevin', 'Jonas'],\n",
    "        'score': [12.5, 9, 16.5, np.nan, 9, 20, 14.5, np.nan, 8, 19],\n",
    "        'attempts': [1, 3, 2, 3, 2, 3, 1, 1, 2, 1],\n",
    "        'qualify': ['yes', 'no', 'yes', 'no', 'no', 'yes', 'yes', 'no', 'no', 'yes']}\n",
    "labels = ['a', 'b', 'c', 'd', 'e', 'f', 'g', 'h', 'i', 'j']\n",
    "\n",
    "#creates a dataframe using exam_data as the source with column coming from the dictionary keys\n",
    "#it also indexed each row by letter\n",
    "df = pd.DataFrame(data = exam_data, index = labels)\n",
    "\n",
    "print(\"\\nSum of the examination attempts by the students:\")\n",
    "#takes the column of attempts from the dataframe and totals the entries in the column\n",
    "#this sum is then printed\n",
    "print(df['attempts'].sum())\n",
    "\n",
    "print(\"\\nMean score for each different student in data frame:\")\n",
    "#takes the column of score from the dataframe and averages the total entries in the column\n",
    "#this average is then printed\n",
    "print(df['score'].mean())\n",
    "#prints the first 4 rows using the number index\n",
    "print(df[0:4])\n",
    "\n",
    "#same way to get the four first rows using the letter index\n",
    "#print(df['a':'d'])"
   ]
  },
  {
   "cell_type": "markdown",
   "metadata": {
    "colab_type": "text",
    "id": "tUP552jfrMsZ"
   },
   "source": [
    "## Reference(s) title & URL:\n",
    "\n"
   ]
  },
  {
   "cell_type": "code",
   "execution_count": null,
   "metadata": {},
   "outputs": [],
   "source": []
  }
 ],
 "metadata": {
  "colab": {
   "collapsed_sections": [],
   "name": "CIS3120HW2_numPy-Panda-Assignment.ipynb",
   "provenance": []
  },
  "kernelspec": {
   "display_name": "Python 3 (ipykernel)",
   "language": "python",
   "name": "python3"
  },
  "language_info": {
   "codemirror_mode": {
    "name": "ipython",
    "version": 3
   },
   "file_extension": ".py",
   "mimetype": "text/x-python",
   "name": "python",
   "nbconvert_exporter": "python",
   "pygments_lexer": "ipython3",
   "version": "3.9.7"
  }
 },
 "nbformat": 4,
 "nbformat_minor": 1
}
