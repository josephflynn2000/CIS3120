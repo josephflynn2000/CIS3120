{
 "cells": [
  {
   "cell_type": "markdown",
   "metadata": {
    "colab_type": "text",
    "id": "J2TXzLdKp2Ow"
   },
   "source": [
    "Programming for Analytics CIS 3120 PTRB[26809] (Baruch College) \n",
    " Group Openrations and Data Aggregation Process \n"
   ]
  },
  {
   "cell_type": "markdown",
   "metadata": {
    "colab_type": "text",
    "id": "eVhoAKeUoq5l"
   },
   "source": [
    "### Student Last Name: Flynn\n",
    "### Student First Name: Joseph"
   ]
  },
  {
   "cell_type": "markdown",
   "metadata": {
    "colab_type": "text",
    "id": "_NcOiSBsJ3yA"
   },
   "source": [
    "## Question#1:\n",
    "###  Suppose you are provided the Dataframe below. Compute the mean of the `data1` column using the labels from `key1`.\n",
    "\n",
    "**NOte**: access `data1` and call `groupby` with the column (a Series) at `key1`\n",
    "*   My Output may not match with your's since we are using `np.random.randn(5)\n",
    "\n",
    "\n",
    "\n",
    "`"
   ]
  },
  {
   "cell_type": "code",
   "execution_count": 1,
   "metadata": {
    "colab": {
     "base_uri": "https://localhost:8080/",
     "height": 195
    },
    "colab_type": "code",
    "id": "sgU-Bz_PIYPm",
    "outputId": "baa3a161-ca48-44a3-e6c5-da95342014bd"
   },
   "outputs": [
    {
     "data": {
      "text/html": [
       "<div>\n",
       "<style scoped>\n",
       "    .dataframe tbody tr th:only-of-type {\n",
       "        vertical-align: middle;\n",
       "    }\n",
       "\n",
       "    .dataframe tbody tr th {\n",
       "        vertical-align: top;\n",
       "    }\n",
       "\n",
       "    .dataframe thead th {\n",
       "        text-align: right;\n",
       "    }\n",
       "</style>\n",
       "<table border=\"1\" class=\"dataframe\">\n",
       "  <thead>\n",
       "    <tr style=\"text-align: right;\">\n",
       "      <th></th>\n",
       "      <th>key1</th>\n",
       "      <th>key2</th>\n",
       "      <th>data1</th>\n",
       "      <th>data2</th>\n",
       "    </tr>\n",
       "  </thead>\n",
       "  <tbody>\n",
       "    <tr>\n",
       "      <th>0</th>\n",
       "      <td>a</td>\n",
       "      <td>one</td>\n",
       "      <td>-0.437061</td>\n",
       "      <td>2.042450</td>\n",
       "    </tr>\n",
       "    <tr>\n",
       "      <th>1</th>\n",
       "      <td>a</td>\n",
       "      <td>two</td>\n",
       "      <td>-0.864340</td>\n",
       "      <td>-2.723726</td>\n",
       "    </tr>\n",
       "    <tr>\n",
       "      <th>2</th>\n",
       "      <td>b</td>\n",
       "      <td>one</td>\n",
       "      <td>-0.342981</td>\n",
       "      <td>0.237081</td>\n",
       "    </tr>\n",
       "    <tr>\n",
       "      <th>3</th>\n",
       "      <td>b</td>\n",
       "      <td>two</td>\n",
       "      <td>-0.846742</td>\n",
       "      <td>-1.972185</td>\n",
       "    </tr>\n",
       "    <tr>\n",
       "      <th>4</th>\n",
       "      <td>a</td>\n",
       "      <td>one</td>\n",
       "      <td>-1.252831</td>\n",
       "      <td>-1.784236</td>\n",
       "    </tr>\n",
       "  </tbody>\n",
       "</table>\n",
       "</div>"
      ],
      "text/plain": [
       "  key1 key2     data1     data2\n",
       "0    a  one -0.437061  2.042450\n",
       "1    a  two -0.864340 -2.723726\n",
       "2    b  one -0.342981  0.237081\n",
       "3    b  two -0.846742 -1.972185\n",
       "4    a  one -1.252831 -1.784236"
      ]
     },
     "execution_count": 1,
     "metadata": {},
     "output_type": "execute_result"
    }
   ],
   "source": [
    "import numpy as np\n",
    "import pandas as pd\n",
    "df = pd.DataFrame({'key1' : ['a', 'a', 'b', 'b', 'a'],\n",
    "                   'key2' : ['one', 'two', 'one', 'two', 'one'],\n",
    "                   'data1' : np.random.randn(5),\n",
    "                   'data2' : np.random.randn(5)})\n",
    "df"
   ]
  },
  {
   "cell_type": "code",
   "execution_count": 2,
   "metadata": {
    "colab": {
     "base_uri": "https://localhost:8080/",
     "height": 84
    },
    "colab_type": "code",
    "id": "q6HT1sjTG6D3",
    "outputId": "1057f932-ff05-4506-8a3f-5230dbae9a32"
   },
   "outputs": [
    {
     "data": {
      "text/plain": [
       "key1\n",
       "a   -0.851411\n",
       "b   -0.594861\n",
       "Name: data1, dtype: float64"
      ]
     },
     "execution_count": 2,
     "metadata": {},
     "output_type": "execute_result"
    }
   ],
   "source": [
    "#groups by the values in key1 and then takes the mean for the data in data1\n",
    "grouped =  df.groupby('key1')['data1'].mean()\n",
    "grouped  "
   ]
  },
  {
   "cell_type": "markdown",
   "metadata": {
    "colab_type": "text",
    "id": "HH5xyh5zJSVS"
   },
   "source": [
    "## Question#2:\n",
    "### Derive the `mean` for the series below using Group by into `states, years`"
   ]
  },
  {
   "cell_type": "code",
   "execution_count": 3,
   "metadata": {
    "colab": {
     "base_uri": "https://localhost:8080/",
     "height": 101
    },
    "colab_type": "code",
    "id": "Zr_ZANtZGW3O",
    "outputId": "df778f5e-91bd-4e72-f8e1-6fd64a11c89c"
   },
   "outputs": [
    {
     "data": {
      "text/plain": [
       "0   -0.437061\n",
       "1   -0.864340\n",
       "2   -0.342981\n",
       "3   -0.846742\n",
       "4   -1.252831\n",
       "Name: data1, dtype: float64"
      ]
     },
     "execution_count": 3,
     "metadata": {},
     "output_type": "execute_result"
    }
   ],
   "source": [
    "states = np.array(['Ohio', 'California', 'California', 'Ohio', 'Ohio'])\n",
    "years = np.array([2005, 2005, 2006, 2005, 2006])\n",
    "df['data1']"
   ]
  },
  {
   "cell_type": "code",
   "execution_count": 4,
   "metadata": {
    "colab": {},
    "colab_type": "code",
    "id": "B62UqS8pKy6c"
   },
   "outputs": [
    {
     "data": {
      "text/html": [
       "<div>\n",
       "<style scoped>\n",
       "    .dataframe tbody tr th:only-of-type {\n",
       "        vertical-align: middle;\n",
       "    }\n",
       "\n",
       "    .dataframe tbody tr th {\n",
       "        vertical-align: top;\n",
       "    }\n",
       "\n",
       "    .dataframe thead th {\n",
       "        text-align: right;\n",
       "    }\n",
       "</style>\n",
       "<table border=\"1\" class=\"dataframe\">\n",
       "  <thead>\n",
       "    <tr style=\"text-align: right;\">\n",
       "      <th></th>\n",
       "      <th></th>\n",
       "      <th>values</th>\n",
       "    </tr>\n",
       "    <tr>\n",
       "      <th>states</th>\n",
       "      <th>years</th>\n",
       "      <th></th>\n",
       "    </tr>\n",
       "  </thead>\n",
       "  <tbody>\n",
       "    <tr>\n",
       "      <th rowspan=\"2\" valign=\"top\">California</th>\n",
       "      <th>2005</th>\n",
       "      <td>-0.864340</td>\n",
       "    </tr>\n",
       "    <tr>\n",
       "      <th>2006</th>\n",
       "      <td>-0.342981</td>\n",
       "    </tr>\n",
       "    <tr>\n",
       "      <th rowspan=\"2\" valign=\"top\">Ohio</th>\n",
       "      <th>2005</th>\n",
       "      <td>-0.641902</td>\n",
       "    </tr>\n",
       "    <tr>\n",
       "      <th>2006</th>\n",
       "      <td>-1.252831</td>\n",
       "    </tr>\n",
       "  </tbody>\n",
       "</table>\n",
       "</div>"
      ],
      "text/plain": [
       "                    values\n",
       "states     years          \n",
       "California 2005  -0.864340\n",
       "           2006  -0.342981\n",
       "Ohio       2005  -0.641902\n",
       "           2006  -1.252831"
      ]
     },
     "execution_count": 4,
     "metadata": {},
     "output_type": "execute_result"
    }
   ],
   "source": [
    "#creates a dataframe of states, years, and values\n",
    "x = pd.DataFrame({'states':states, 'years':years, 'values':df['data1']})\n",
    "#groups by states than years and calculates the mean\n",
    "x.groupby(['states','years']).mean()"
   ]
  },
  {
   "cell_type": "markdown",
   "metadata": {
    "colab_type": "text",
    "id": "tx8Xb6dpMq-O"
   },
   "source": [
    "## Question#3:\n",
    "### Explain the code and output below"
   ]
  },
  {
   "cell_type": "code",
   "execution_count": 5,
   "metadata": {
    "colab": {
     "base_uri": "https://localhost:8080/",
     "height": 168
    },
    "colab_type": "code",
    "id": "My-BHkqabe1A",
    "outputId": "9ecdd4dd-385c-4420-cd61-5e82d28313ae"
   },
   "outputs": [
    {
     "data": {
      "text/plain": [
       "count    5.000000\n",
       "mean    -0.748791\n",
       "std      0.367035\n",
       "min     -1.252831\n",
       "25%     -0.864340\n",
       "50%     -0.846742\n",
       "75%     -0.437061\n",
       "max     -0.342981\n",
       "Name: data1, dtype: float64"
      ]
     },
     "execution_count": 5,
     "metadata": {},
     "output_type": "execute_result"
    }
   ],
   "source": [
    "df['data1'].describe() #describe prints out a list of descriptors based on the data\n",
    "\n",
    "##########################\n",
    "#count - how many data points there are in the series\n",
    "#mean - the average of the series \n",
    "#std - the standard deviation of the data or the measure of distance from the mean the data has\n",
    "#min - the lowest value in the data\n",
    "#25% - the 25% percentile, this means 25% of data points are below that value and 75% lies above\n",
    "#50% - the 50% percentile or median, this means half the data lies below this point and half lies above\n",
    "#75% - the 75% percentile, this mean 75% of data points are below that value and 25% lies above\n",
    "#max- the highest value of the data set\n",
    "##########################\n",
    "\n",
    "#######Current output meaning# (values will change if the first block of code is run again)######\n",
    "\n",
    "#count - there are 5 data points in the series\n",
    "#mean - the average of the series is 0.736363 = (sum of values)/(# of values)\n",
    "#std - the standard deviation is 1.406293, 2*std+-mean = 95% of values are contained if it follows a normal distribution\n",
    "#min - lowest value is -1.537472\n",
    "#25% - 25% of values fall below 0.345615 and 75% of values fall above 0.345615\n",
    "#50% - the median is 1.249485, 50% fall above 1.249485 and 50% fall below 1.249485\n",
    "#75% - 75% of values fall below 1.741556 and 25% of values fall above 1.741556\n",
    "#max - the max value is 1.882629"
   ]
  },
  {
   "cell_type": "markdown",
   "metadata": {
    "colab_type": "text",
    "id": "ByH1A5p5eSij"
   },
   "source": [
    "## Question#4:\n",
    "### Explain the code and output below"
   ]
  },
  {
   "cell_type": "code",
   "execution_count": 6,
   "metadata": {
    "colab": {
     "base_uri": "https://localhost:8080/",
     "height": 168
    },
    "colab_type": "code",
    "id": "1jQyQTJCdy97",
    "outputId": "939f1852-4a33-4553-d8ae-bb10d45bf751"
   },
   "outputs": [
    {
     "data": {
      "text/plain": [
       "count    5.000000\n",
       "mean    -0.840123\n",
       "std      1.948748\n",
       "min     -2.723726\n",
       "25%     -1.972185\n",
       "50%     -1.784236\n",
       "75%      0.237081\n",
       "max      2.042450\n",
       "Name: data2, dtype: float64"
      ]
     },
     "execution_count": 6,
     "metadata": {},
     "output_type": "execute_result"
    }
   ],
   "source": [
    "df['data2'].describe()\n",
    "\n",
    "##########################\n",
    "#count - how many data points there are in the series\n",
    "#mean - the average of the series \n",
    "#std - the standard deviation of the data or the measure of distance from the mean the data has\n",
    "#min - the lowest value in the data\n",
    "#25% - the 25% percentile, this means 25% of data points are below that value and 75% lies above\n",
    "#50% - the 50% percentile or median, this means half the data lies below this point and half lies above\n",
    "#75% - the 75% percentile, this mean 75% of data points are below that value and 25% lies above\n",
    "#max- the highest value of the data set\n",
    "##########################\n",
    "\n",
    "#######Current output meaning# (values will change if the first block of code is run again)######\n",
    "\n",
    "#count - there are 5 data points in the series\n",
    "#mean - the average of the series is -0.285723 = (sum of values)/(# of values)\n",
    "#std - the standard deviation is 0.665507, 2*std+-mean = 95% of values are contained if it follows a normal distribution\n",
    "#min - lowest value is -1.336309\n",
    "#25% - 25% of values fall below -0.515353 and 75% of values fall above -0.515353\n",
    "#50% - the median is -0.030024, 50% fall above -0.030024 and 50% fall below -0.030024\n",
    "#75% - 75% of values fall below 0.114870 and 25% of values fall above 0.114870\n",
    "#max - the max value is  0.338199"
   ]
  },
  {
   "cell_type": "markdown",
   "metadata": {
    "colab_type": "text",
    "id": "tUP552jfrMsZ"
   },
   "source": [
    "## Reference(s) title & URL:\n",
    "*  \n",
    "\n",
    "\n"
   ]
  },
  {
   "cell_type": "code",
   "execution_count": null,
   "metadata": {},
   "outputs": [],
   "source": []
  }
 ],
 "metadata": {
  "colab": {
   "collapsed_sections": [],
   "name": "CIS3120HW5_GrpOpAggreData-Assignment.ipynb",
   "provenance": []
  },
  "kernelspec": {
   "display_name": "Python 3 (ipykernel)",
   "language": "python",
   "name": "python3"
  },
  "language_info": {
   "codemirror_mode": {
    "name": "ipython",
    "version": 3
   },
   "file_extension": ".py",
   "mimetype": "text/x-python",
   "name": "python",
   "nbconvert_exporter": "python",
   "pygments_lexer": "ipython3",
   "version": "3.9.7"
  }
 },
 "nbformat": 4,
 "nbformat_minor": 1
}
